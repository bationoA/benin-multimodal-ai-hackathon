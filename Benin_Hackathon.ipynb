{
 "cells": [
  {
   "cell_type": "markdown",
   "metadata": {
    "id": "lfXcUgQPpOew"
   },
   "source": [
    "# TODO\n",
    "* RAG\n"
   ]
  },
  {
   "cell_type": "code",
   "execution_count": 1,
   "metadata": {
    "id": "mjScIVXciSOQ"
   },
   "outputs": [
    {
     "ename": "ModuleNotFoundError",
     "evalue": "No module named 'openai'",
     "output_type": "error",
     "traceback": [
      "\u001b[0;31m---------------------------------------------------------------------------\u001b[0m",
      "\u001b[0;31mModuleNotFoundError\u001b[0m                       Traceback (most recent call last)",
      "Cell \u001b[0;32mIn[1], line 2\u001b[0m\n\u001b[1;32m      1\u001b[0m \u001b[38;5;28;01mimport\u001b[39;00m \u001b[38;5;21;01mos\u001b[39;00m\n\u001b[0;32m----> 2\u001b[0m \u001b[38;5;28;01mfrom\u001b[39;00m \u001b[38;5;21;01mopenai\u001b[39;00m \u001b[38;5;28;01mimport\u001b[39;00m OpenAI\n\u001b[1;32m      3\u001b[0m \u001b[38;5;28;01mfrom\u001b[39;00m \u001b[38;5;21;01mdotenv\u001b[39;00m \u001b[38;5;28;01mimport\u001b[39;00m load_dotenv\n",
      "\u001b[0;31mModuleNotFoundError\u001b[0m: No module named 'openai'"
     ]
    }
   ],
   "source": [
    "import os\n",
    "from openai import OpenAI\n",
    "from dotenv import load_dotenv"
   ]
  },
  {
   "cell_type": "code",
   "execution_count": null,
   "metadata": {},
   "outputs": [],
   "source": [
    "load_dotenv()\n",
    "client = OpenAI()"
   ]
  },
  {
   "cell_type": "code",
   "execution_count": 3,
   "metadata": {
    "id": "h9fAVxWw0oNo"
   },
   "outputs": [],
   "source": [
    "class OpenAiModel:\n",
    "  def __init__(self, model: str, prompt: str, user_content: str, image_size: str=\"1024x1024\", quality: str=\"standard\", num_images: int=1):\n",
    "\n",
    "    self.model = model\n",
    "    self.prompt = prompt\n",
    "    self.user_content = user_content\n",
    "    self.image_size = image_size\n",
    "    self.quality = quality\n",
    "    self.num_images = num_images\n",
    "\n",
    "  def get_message(self):\n",
    "    if \"dall\" in self.model:\n",
    "      return f\"Error: {self.model} is only image generation not text generation.\"\n",
    "\n",
    "    completion = client.chat.completions.create(\n",
    "      model= self.model,  # \"gpt-3.5-turbo\",\n",
    "      messages=[\n",
    "          {\"role\": \"system\", \"content\": self.prompt},\n",
    "            {\"role\": \"user\", \"content\": self.user_content}\n",
    "          ]\n",
    "      )\n",
    "    return completion.choices[0]\n",
    "\n",
    "  def get_images_urls(self):\n",
    "    if not \"dall\" in self.model:\n",
    "      return f\"Error: {self.model} is only text generation not image generation.\"\n",
    "\n",
    "    response = client.images.generate(\n",
    "      model=\"dall-e-3\",\n",
    "      prompt=self.prompt,\n",
    "      size=self.image_size,\n",
    "      quality=self.quality,\n",
    "      n=self.num_images,\n",
    "    )\n",
    "\n",
    "    return [response.data[i].url for i in range(len(response.data))]"
   ]
  },
  {
   "cell_type": "code",
   "execution_count": null,
   "metadata": {
    "id": "arl0ScHF19Zb"
   },
   "outputs": [],
   "source": []
  },
  {
   "cell_type": "markdown",
   "metadata": {
    "id": "Rh92Bjrsldpm"
   },
   "source": [
    "### Tasks list\n",
    "* Chat-GPT\n",
    "  * [x] Translate from Dendi language to English\n",
    "  * Reformulate sentence for clear meaning based on context\n",
    "  * Create maximum of 3 paragraphs\n",
    "  * Generate from paragraph image generation\n",
    "  * Improve prompt for image generation (provided by user)\n",
    "* Stable Diffusion / DALEE"
   ]
  },
  {
   "cell_type": "markdown",
   "metadata": {
    "id": "-DMhEq_KrH6v"
   },
   "source": [
    "I want to visit Benin."
   ]
  },
  {
   "cell_type": "markdown",
   "metadata": {
    "id": "AGZjkeZDrN1g"
   },
   "source": []
  },
  {
   "cell_type": "code",
   "execution_count": 2,
   "metadata": {
    "id": "WfXPf0KEkTJ6"
   },
   "outputs": [],
   "source": [
    "taks_prompt = {\n",
    "\t\"translate-Dendi-to-English\": \"You are an expert translator specializing in the Dendi  of Benin language. Your task is to accurately translate any text provided in the Dendi language into English. You have a deep understanding of the Dendi language, including its grammar, vocabulary, idioms, and cultural nuances. When translating, you prioritize preserving the original meaning and intent of the source text while ensuring that the English translation is natural, fluent, and easy to understand for native English speakers. Please translate the following Dendi text into English:\",\n",
    "  \"reformulate-sentence-for-clear-meaning\": \"Your task is to rephrase or reformulate sentences to enhance clarity while preserving the original intended meaning. When given a sentence, carefully examine the context and analyze any potential ambiguities or vagueness in the phrasing. Then, rewrite the sentence using clear, concise language that eliminates ambiguity but does not alter the core meaning or ideas expressed in the original text.\",\n",
    "  \"create-maximum-of-3-paragraphs\": \"You are a knowledgeable guide with expertise in Benin's tourism offerings and cultural heritage. Your role is to provide relevant and engaging information to users interested in visiting or learning about Benin.Tailor your response to address the specific aspects of Benin's tourism and culture that the user is interested in, ensuring that the information is relevant and valuable. Give the response in 3 paragraphs and each paragraph must not exceed 200 words. Return the paragraphs in a json list.\",\n",
    "  \"improve-paragraph-image-generation-prompt\": \"You are an expert at writing concise yet effective prompts to generate images from text using AI models. Analyze the provided text and craft a succinct prompt that captures the key visual elements, context, and tone. Guide the model to create an image vividly depicting the described scenes while allowing creative interpretation aligned with the text's essence. The prompt must be short and accurate.\"\n",
    "}"
   ]
  },
  {
   "cell_type": "code",
   "execution_count": 4,
   "metadata": {
    "id": "CeFgZTFTyRj2"
   },
   "outputs": [],
   "source": [
    "task_prompt = taks_prompt[\"create-maximum-of-3-paragraphs\"]\n",
    "content = \"I want to visit nothern Benin\"\n",
    "text_completion = OpenAiModel(model=\"gpt-3.5-turbo\", prompt=task_prompt, user_content=content)"
   ]
  },
  {
   "cell_type": "code",
   "execution_count": 5,
   "metadata": {
    "colab": {
     "base_uri": "https://localhost:8080/",
     "height": 280
    },
    "id": "BoMF4rJO3S7Z",
    "outputId": "58a0552e-9eb1-421d-a763-77ec89aa5625"
   },
   "outputs": [
    {
     "ename": "NameError",
     "evalue": "name 'client' is not defined",
     "output_type": "error",
     "traceback": [
      "\u001b[0;31m---------------------------------------------------------------------------\u001b[0m",
      "\u001b[0;31mNameError\u001b[0m                                 Traceback (most recent call last)",
      "\u001b[0;32m<ipython-input-5-40f1fb254167>\u001b[0m in \u001b[0;36m<cell line: 1>\u001b[0;34m()\u001b[0m\n\u001b[0;32m----> 1\u001b[0;31m \u001b[0mmessage\u001b[0m \u001b[0;34m=\u001b[0m \u001b[0mtext_completion\u001b[0m\u001b[0;34m.\u001b[0m\u001b[0mget_message\u001b[0m\u001b[0;34m(\u001b[0m\u001b[0;34m)\u001b[0m\u001b[0;34m\u001b[0m\u001b[0;34m\u001b[0m\u001b[0m\n\u001b[0m\u001b[1;32m      2\u001b[0m \u001b[0mmessage\u001b[0m\u001b[0;34m\u001b[0m\u001b[0;34m\u001b[0m\u001b[0m\n",
      "\u001b[0;32m<ipython-input-3-c48aed82f687>\u001b[0m in \u001b[0;36mget_message\u001b[0;34m(self)\u001b[0m\n\u001b[1;32m     13\u001b[0m       \u001b[0;32mreturn\u001b[0m \u001b[0;34mf\"Error: {self.model} is only image generation not text generation.\"\u001b[0m\u001b[0;34m\u001b[0m\u001b[0;34m\u001b[0m\u001b[0m\n\u001b[1;32m     14\u001b[0m \u001b[0;34m\u001b[0m\u001b[0m\n\u001b[0;32m---> 15\u001b[0;31m     completion = client.chat.completions.create(\n\u001b[0m\u001b[1;32m     16\u001b[0m       \u001b[0mmodel\u001b[0m\u001b[0;34m=\u001b[0m \u001b[0mself\u001b[0m\u001b[0;34m.\u001b[0m\u001b[0mmodel\u001b[0m\u001b[0;34m,\u001b[0m  \u001b[0;31m# \"gpt-3.5-turbo\",\u001b[0m\u001b[0;34m\u001b[0m\u001b[0;34m\u001b[0m\u001b[0m\n\u001b[1;32m     17\u001b[0m       messages=[\n",
      "\u001b[0;31mNameError\u001b[0m: name 'client' is not defined"
     ]
    }
   ],
   "source": [
    "message = text_completion.get_message()\n",
    "message"
   ]
  },
  {
   "cell_type": "code",
   "execution_count": 68,
   "metadata": {
    "colab": {
     "base_uri": "https://localhost:8080/"
    },
    "id": "34aq4A7CKUaR",
    "outputId": "deef88cf-9188-4699-e21d-e8730fe82f80"
   },
   "outputs": [
    {
     "data": {
      "text/plain": [
       "dict_keys(['content', 'role'])"
      ]
     },
     "execution_count": 68,
     "metadata": {},
     "output_type": "execute_result"
    }
   ],
   "source": [
    "message"
   ]
  },
  {
   "cell_type": "code",
   "execution_count": 56,
   "metadata": {
    "id": "BAQ_tDCmH3L0"
   },
   "outputs": [],
   "source": [
    "import json"
   ]
  },
  {
   "cell_type": "code",
   "execution_count": 64,
   "metadata": {
    "colab": {
     "base_uri": "https://localhost:8080/"
    },
    "id": "qBOXvgRU3WF6",
    "outputId": "3c2cc549-a6d2-45b0-a5f5-8708701eda78"
   },
   "outputs": [
    {
     "name": "stdout",
     "output_type": "stream",
     "text": [
      "Northern Benin promises a truly authentic and enriching experience. The region is known for its vibrant culture and unique tourist attractions. One such place is the Pendjari National Park, a UNESCO World Heritage Site, famous around the continent for its wildlife. Here, you can indulge in wildlife safari drives, birdwatching, and exploration trails. It serves as a home to many native African species such as elephants, lions, cheetahs, and a variety of bird species, enhancing its charm for nature lovers.\n",
      "\n",
      "\n",
      "In addition to the wildlife experiences, Northern Benin is also rich in history and cultural heritage. The Atakora Mountain range houses the unique and isolated Taneka villages, where you can according to local practices, delve deep into traditional Beninese society, known for their unique, fortress-like Tata Somba houses and sacred traditions. Another interesting place is Nikki, the capital city of the Bariba kingdom, where the annual Gaani festival is celebrated, featuring a grand display of Bariba horsemen showing off their riding skills.\n",
      "\n",
      "\n",
      "Your journey to Northern Benin wouldn't be complete without a visit to Natitingou, a bustling city steeped in history. Here, you can explore the Natitingou museum that exhibits the cultural practices of the Somba and Fulani people. With a backdrop of stunning mountains, Natitingou is the gateway to the Pendjari National Park and is a blend of traditional and modern Benin. Always buzzing with activity, you can also find bustling markets where you can purchase traditional crafts and local produce. This region allows you to experience Benin at its culturally richest and most diverse.\n",
      "\n",
      "\n"
     ]
    }
   ],
   "source": [
    "for parg in json.loads(message.content):\n",
    "  print(parg)\n",
    "  print(\"\\n\")"
   ]
  },
  {
   "cell_type": "code",
   "execution_count": 26,
   "metadata": {
    "colab": {
     "base_uri": "https://localhost:8080/",
     "height": 69
    },
    "id": "Z54yd_S14j-O",
    "outputId": "13ed2135-acf4-4849-989c-7ca3c6347e52"
   },
   "outputs": [
    {
     "data": {
      "application/vnd.google.colaboratory.intrinsic+json": {
       "type": "string"
      },
      "text/plain": [
       "'You are an expert translator specializing in the Dendi  of Benin language. Your task is to accurately translate any text provided in the Dendi language into English. You have a deep understanding of the Dendi language, including its grammar, vocabulary, idioms, and cultural nuances. When translating, you prioritize preserving the original meaning and intent of the source text while ensuring that the English translation is natural, fluent, and easy to understand for native English speakers. Please translate the following Dendi text into English:'"
      ]
     },
     "execution_count": 26,
     "metadata": {},
     "output_type": "execute_result"
    }
   ],
   "source": [
    "text_completion.prompt"
   ]
  },
  {
   "cell_type": "code",
   "execution_count": null,
   "metadata": {
    "id": "oo_x8KlL4lzd"
   },
   "outputs": [],
   "source": []
  },
  {
   "cell_type": "code",
   "execution_count": 45,
   "metadata": {
    "colab": {
     "base_uri": "https://localhost:8080/"
    },
    "id": "BXRXwD_D4ppl",
    "outputId": "2c81dcbe-cb4c-4738-b975-32df05ed5524"
   },
   "outputs": [
    {
     "data": {
      "text/plain": [
       "ChatCompletionMessage(content=\"I'm sorry, I cannot find a translation for this text as it seems to be a specific dialect or it may contain errors. Dendi is spoken in Benin but there is little information available about this language. It would be most accurate to ask a native speaker or use a dedicated Dendi translation service.\", role='assistant', function_call=None, tool_calls=None)"
      ]
     },
     "execution_count": 45,
     "metadata": {},
     "output_type": "execute_result"
    }
   ],
   "source": [
    "completion = client.chat.completions.create(\n",
    "      model= \"gpt-4\",\n",
    "      messages=[\n",
    "          {\"role\": \"system\", \"content\": \"You used to translat Dendi text to English. Translate this text which is in Benin's Dendi language to English:\"},\n",
    "            {\"role\": \"user\", \"content\": \"Wom ma si ciiti, zama ǹ ma si wom ciiti sɛ.\"}\n",
    "          ]\n",
    "      )\n",
    "completion.choices[0].message"
   ]
  },
  {
   "cell_type": "code",
   "execution_count": null,
   "metadata": {
    "id": "eqGqOYok5GSm"
   },
   "outputs": [],
   "source": [
    "dalle = OpenAiModel\n",
    "task_prompt = taks_prompt[\"improve-paragraph-image-generation-prompt\"]\n",
    "content = \"I want to visit nothern Benin\"\n",
    "ima = OpenAiModel(model=\"dall-e-3\", prompt=task_prompt, user_content=content)\n"
   ]
  }
 ],
 "metadata": {
  "colab": {
   "provenance": []
  },
  "kernelspec": {
   "display_name": "Python 3 (ipykernel)",
   "language": "python",
   "name": "python3"
  },
  "language_info": {
   "codemirror_mode": {
    "name": "ipython",
    "version": 3
   },
   "file_extension": ".py",
   "mimetype": "text/x-python",
   "name": "python",
   "nbconvert_exporter": "python",
   "pygments_lexer": "ipython3",
   "version": "3.10.12"
  }
 },
 "nbformat": 4,
 "nbformat_minor": 4
}
